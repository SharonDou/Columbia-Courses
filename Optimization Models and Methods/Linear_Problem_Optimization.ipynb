{
 "cells": [
  {
   "cell_type": "code",
   "execution_count": 1,
   "metadata": {},
   "outputs": [
    {
     "name": "stdout",
     "output_type": "stream",
     "text": [
      "Academic license - for non-commercial use only\n",
      "Optimize a model with 2 rows, 3 columns and 5 nonzeros\n",
      "Variable types: 0 continuous, 3 integer (3 binary)\n",
      "Coefficient statistics:\n",
      "  Matrix range     [1e+00, 3e+00]\n",
      "  Objective range  [1e+00, 2e+00]\n",
      "  Bounds range     [1e+00, 1e+00]\n",
      "  RHS range        [1e+00, 4e+00]\n",
      "Found heuristic solution: objective 2.0000000\n",
      "Presolve removed 2 rows and 3 columns\n",
      "Presolve time: 0.00s\n",
      "Presolve: All rows and columns removed\n",
      "\n",
      "Explored 0 nodes (0 simplex iterations) in 0.02 seconds\n",
      "Thread count was 1 (of 4 available processors)\n",
      "\n",
      "Solution count 2: 3 2 \n",
      "\n",
      "Optimal solution found (tolerance 1.00e-04)\n",
      "Best objective 3.000000000000e+00, best bound 3.000000000000e+00, gap 0.0000%\n",
      "x 1.0\n",
      "y 0.0\n",
      "z 1.0\n",
      "Obj: 3.0\n"
     ]
    }
   ],
   "source": [
    "from gurobi import *\n",
    "\n",
    "try:\n",
    "# Create a new model\n",
    "    m = Model(\"mip1\")\n",
    "# Create variables\n",
    "    x = m.addVar(obj = 1,vtype=GRB.BINARY, name=\"x\")\n",
    "    y = m.addVar(obj = 1,vtype=GRB.BINARY, name=\"y\")\n",
    "    z = m.addVar(obj = 2,vtype=GRB.BINARY, name=\"z\")\n",
    "# Integrate new variables\n",
    "    m.update()\n",
    "# Set objective\n",
    "    m.setObjective(x + y + 2 * z, GRB.MAXIMIZE)\n",
    "# Add constraint: x + 2 y + 3 z <= 4\n",
    "    m.addConstr(x + 2 * y + 3 * z <= 4, \"c0\")\n",
    "# Add constraint: x + y >= 1\n",
    "    m.addConstr(x + y >= 1, \"c1\")\n",
    "    m.optimize()\n",
    "    for v in m.getVars():\n",
    "        print (v.varName, v.x)\n",
    "    print ('Obj:', m.objVal)\n",
    "except GurobiError:\n",
    "    print ('Error reported')"
   ]
  },
  {
   "cell_type": "markdown",
   "metadata": {},
   "source": [
    "# linear Program"
   ]
  },
  {
   "cell_type": "code",
   "execution_count": 2,
   "metadata": {},
   "outputs": [
    {
     "name": "stdout",
     "output_type": "stream",
     "text": [
      "Changed value of parameter Method to 0\n",
      "   Prev: -1  Min: -1  Max: 5  Default: -1\n",
      "Optimize a model with 3 rows, 3 columns and 9 nonzeros\n",
      "Coefficient statistics:\n",
      "  Matrix range     [4e+00, 1e+01]\n",
      "  Objective range  [5e+00, 8e+00]\n",
      "  Bounds range     [0e+00, 0e+00]\n",
      "  RHS range        [4e+01, 6e+01]\n",
      "Presolve time: 0.01s\n",
      "Presolved: 3 rows, 3 columns, 9 nonzeros\n",
      "\n",
      "Iteration    Objective       Primal Inf.    Dual Inf.      Time\n",
      "       0   -0.0000000e+00   0.000000e+00   1.900000e+01      0s\n",
      "       2    6.2000000e+01   0.000000e+00   0.000000e+00      0s\n",
      "\n",
      "Solved in 2 iterations and 0.02 seconds\n",
      "Optimal objective  6.200000000e+01\n",
      "x1 0.0\n",
      "x2 7.0\n",
      "x3 2.5\n"
     ]
    }
   ],
   "source": [
    "# Model\n",
    "model = Model(\"prod\")\n",
    "model.setParam(GRB.param.Method, 0)\n",
    "\n",
    "# Create decision variables\n",
    "x1 = model.addVar(lb=0.0, ub=GRB.INFINITY, obj=5.0,\n",
    "                  vtype=GRB.CONTINUOUS, name=\"x1\")  # arguments by name\n",
    "x2 = model.addVar(0.0, GRB.INFINITY, 6.0, GRB.CONTINUOUS, \"x2\")  # arguments by position\n",
    "x3 = model.addVar(name=\"x3\")  # arguments by deafult\n",
    "\n",
    "# The objective is to maximize (this is redundant now, but it will overwrite Var declaration\n",
    "model.setObjective(5.0*x1 + 6.0*x2 + 8.0*x3, GRB.MAXIMIZE)\n",
    "\n",
    "# Add constraints to the model\n",
    "model.addConstr(6.0*x1 + 5.0*x2 + 10.0*x3 <= 60.0, \"c1\")\n",
    "model.addConstr(8.0*x1 + 4.0*x2 + 4.0*x3, GRB.LESS_EQUAL, 40.0, \"c2\")\n",
    "model.addConstr(4.0*x1 + 5.0*x2 + 6.0*x3, GRB.LESS_EQUAL, 50.0, \"c3\")\n",
    "\n",
    "# Solve\n",
    "model.optimize()\n",
    "\n",
    "# Let's print the solution\n",
    "for v in model.getVars():\n",
    "    print(v.varName, v.x)"
   ]
  },
  {
   "cell_type": "code",
   "execution_count": null,
   "metadata": {
    "collapsed": true
   },
   "outputs": [],
   "source": []
  }
 ],
 "metadata": {
  "kernelspec": {
   "display_name": "Python 3",
   "language": "python",
   "name": "python3"
  },
  "language_info": {
   "codemirror_mode": {
    "name": "ipython",
    "version": 3
   },
   "file_extension": ".py",
   "mimetype": "text/x-python",
   "name": "python",
   "nbconvert_exporter": "python",
   "pygments_lexer": "ipython3",
   "version": "3.6.1"
  }
 },
 "nbformat": 4,
 "nbformat_minor": 2
}
